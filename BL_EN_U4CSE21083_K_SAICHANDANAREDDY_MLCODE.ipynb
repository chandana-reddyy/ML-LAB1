{
  "nbformat": 4,
  "nbformat_minor": 0,
  "metadata": {
    "colab": {
      "provenance": []
    },
    "kernelspec": {
      "name": "python3",
      "display_name": "Python 3"
    },
    "language_info": {
      "name": "python"
    }
  },
  "cells": [
    {
      "cell_type": "code",
      "execution_count": 1,
      "metadata": {
        "colab": {
          "base_uri": "https://localhost:8080/"
        },
        "id": "YotZqtkbGjHj",
        "outputId": "de10d2d4-7fec-4f1c-d47d-ce0dd7389e02"
      },
      "outputs": [
        {
          "output_type": "stream",
          "name": "stdout",
          "text": [
            "Matrix A:-\n",
            "[[20  6  2]\n",
            " [16  3  6]\n",
            " [27  6  2]\n",
            " [19  1  2]\n",
            " [24  4  2]\n",
            " [22  1  5]\n",
            " [15  4  2]\n",
            " [18  4  2]\n",
            " [21  1  4]\n",
            " [16  2  4]]\n",
            "Matrix C:-\n",
            "[386 289 393 110 280 167 271 274 148 198]\n",
            "Rank of Matrix A:- 3\n",
            "Rank of Matrix C:- 1\n"
          ]
        }
      ],
      "source": [
        "import pandas as pd\n",
        "import numpy as np\n",
        "data_frame=pd.read_excel(r\"Lab Session1 Data.xlsx\",sheet_name='Purchase data')\n",
        "data_frame.drop(data_frame.iloc[:,5:22],inplace=True,axis=1)\n",
        "A=np.array(data_frame.iloc[:,1:-1].values)\n",
        "C=np.array(data_frame.iloc[:,-1].values)\n",
        "print(\"Matrix A:-\")\n",
        "print(A)\n",
        "print(\"Matrix C:-\")\n",
        "print(C)\n",
        "print(\"Rank of Matrix A:-\",np.linalg.matrix_rank(A))\n",
        "print(\"Rank of Matrix C:-\",np.linalg.matrix_rank(C))"
      ]
    },
    {
      "cell_type": "code",
      "source": [
        "inverse=np.linalg.pinv(A)\n",
        "print(\"Inverse Matrix of A:-\",inverse)\n",
        "Pseudo_inv=np.matmul(inverse,C)\n",
        "print(\"Pseudo inverse is  actual cost of each product is : \",Pseudo_inv)"
      ],
      "metadata": {
        "colab": {
          "base_uri": "https://localhost:8080/"
        },
        "id": "8ZrEQwK_xzJ6",
        "outputId": "0140dab6-abaa-4e66-b5e2-b71c84cd5c06"
      },
      "execution_count": 3,
      "outputs": [
        {
          "output_type": "stream",
          "name": "stdout",
          "text": [
            "Inverse Matrix of A:- [[-0.01008596 -0.03124505  0.01013951  0.0290728   0.0182907   0.01161794\n",
            "  -0.00771348  0.00095458  0.01743623 -0.00542016]\n",
            " [ 0.09059668  0.07263726  0.03172933 -0.09071908 -0.01893196 -0.06926996\n",
            "   0.05675464  0.03152577 -0.07641966  0.00357352]\n",
            " [ 0.00299878  0.15874243 -0.05795468 -0.06609024 -0.06295043  0.03348017\n",
            "   0.01541831 -0.01070461  0.00029003  0.05938755]]\n",
            "Pseudo inverse is  actual cost of each product is :  [ 1. 55. 18.]\n"
          ]
        }
      ]
    },
    {
      "cell_type": "code",
      "source": [
        "table=np.array(data_frame['Payment (Rs)'])\n",
        "number=len(table)\n",
        "new_row=[]\n",
        "for i in range(0,number):\n",
        "    if table[i]>200:\n",
        "        new_row.append(\"RICH\")\n",
        "    else:\n",
        "        new_row.append(\"POOR\")\n",
        "data_frame.insert(loc = 5,column = 'Label',value = new_row)\n",
        "print(\"New Data Excel Sheet for Purchase Data is:-\")\n",
        "print(data_frame)"
      ],
      "metadata": {
        "colab": {
          "base_uri": "https://localhost:8080/"
        },
        "id": "OrxndTofyN99",
        "outputId": "55d6a9c7-5113-4002-9fe0-b73487b956b2"
      },
      "execution_count": 4,
      "outputs": [
        {
          "output_type": "stream",
          "name": "stdout",
          "text": [
            "New Data Excel Sheet for Purchase Data is:-\n",
            "  Customer  Candies (#)  Mangoes (Kg)  Milk Packets (#)  Payment (Rs) Label\n",
            "0      C_1           20             6                 2           386  RICH\n",
            "1      C_2           16             3                 6           289  RICH\n",
            "2      C_3           27             6                 2           393  RICH\n",
            "3      C_4           19             1                 2           110  POOR\n",
            "4      C_5           24             4                 2           280  RICH\n",
            "5      C_6           22             1                 5           167  POOR\n",
            "6      C_7           15             4                 2           271  RICH\n",
            "7      C_8           18             4                 2           274  RICH\n",
            "8      C_9           21             1                 4           148  POOR\n",
            "9     C_10           16             2                 4           198  POOR\n"
          ]
        }
      ]
    },
    {
      "cell_type": "code",
      "source": [
        "X = data_frame.drop(['Customer', 'Payment (Rs)', 'Label'], axis=1)\n",
        "y = data_frame[\"Label\"]\n",
        "X_train, X_test, y_train, y_test = train_test_split(X, y, test_size=0.2, random_state=42)\n",
        "scaler = StandardScaler()\n",
        "X_train_scaled = scaler.fit_transform(X_train)\n",
        "X_test_scaled = scaler.transform(X_test)\n",
        "model = RandomForestClassifier(random_state=42)\n",
        "model.fit(X_train_scaled, y_train)\n",
        "y_pred = model.predict(X_test_scaled)\n",
        "print(classification_report(y_test, y_pred))\n"
      ],
      "metadata": {
        "colab": {
          "base_uri": "https://localhost:8080/"
        },
        "id": "_pWtIGP3yYDt",
        "outputId": "4ef493e9-de1f-4181-fc94-dcbbb88075ed"
      },
      "execution_count": 7,
      "outputs": [
        {
          "output_type": "stream",
          "name": "stdout",
          "text": [
            "              precision    recall  f1-score   support\n",
            "\n",
            "        POOR       1.00      1.00      1.00         1\n",
            "        RICH       1.00      1.00      1.00         1\n",
            "\n",
            "    accuracy                           1.00         2\n",
            "   macro avg       1.00      1.00      1.00         2\n",
            "weighted avg       1.00      1.00      1.00         2\n",
            "\n"
          ]
        }
      ]
    },
    {
      "cell_type": "code",
      "source": [
        "import pandas as pd\n",
        "import numpy as np\n",
        "import statistics as sp\n",
        "import matplotlib.pyplot as plt\n",
        "data = pd.read_excel(\"Lab Session1 Data.xlsx\", sheet_name='IRCTC Stock Price')\n",
        "p_data = data['Price']\n",
        "m_price = sp.mean(p_data)\n",
        "v_price = sp.variance(p_data)\n",
        "print(\"The mean value of the Prices is:-\", m_price)\n",
        "print(\"The Variance is:-\", v_price)\n",
        "\n"
      ],
      "metadata": {
        "colab": {
          "base_uri": "https://localhost:8080/"
        },
        "id": "JxYUpnG2yuG-",
        "outputId": "41c90852-fe86-4d8e-d0a7-efb2111a1cdc"
      },
      "execution_count": 8,
      "outputs": [
        {
          "output_type": "stream",
          "name": "stdout",
          "text": [
            "The mean value of the Prices is:- 1560.663453815261\n",
            "The Variance is:- 58732.365352539186\n"
          ]
        }
      ]
    },
    {
      "cell_type": "code",
      "source": [
        "\n",
        "data['Date'] = pd.to_datetime(data['Date'])\n",
        "\n",
        "wednesday_data = data[data['Date'].dt.day_name() == 'Wednesday']\n",
        "sample_mean_wednesday = sp.mean(wednesday_data['Price'])\n",
        "\n",
        "print(\"Sample mean on Wednesdays:-\", sample_mean_wednesday)\n",
        "print(\"Population mean (overall mean):-\", m_price)"
      ],
      "metadata": {
        "colab": {
          "base_uri": "https://localhost:8080/"
        },
        "id": "N0oZeRK9y5Je",
        "outputId": "50ab9e64-3c33-4a38-8799-2ff862159ecf"
      },
      "execution_count": 9,
      "outputs": [
        {
          "output_type": "stream",
          "name": "stdout",
          "text": [
            "Sample mean on Wednesdays:- 1550.706\n",
            "Population mean (overall mean):- 1560.663453815261\n"
          ]
        }
      ]
    },
    {
      "cell_type": "code",
      "source": [
        "april_data = data[data['Date'].dt.month == 4]\n",
        "sample_mean_april = sp.mean(april_data['Price'])\n",
        "\n",
        "print(\"Sample mean in April:-\", sample_mean_april)\n",
        "\n",
        "loss_probability = len(data[data['Chg%'] < 0]) / len(data)\n",
        "\n",
        "print(\"Probability of making a loss over the stock:-\", loss_probability)\n",
        "\n",
        "\n",
        "profit_on_wednesday_probability = len(wednesday_data[wednesday_data['Chg%'] > 0]) / len(wednesday_data)\n",
        "\n",
        "print(\"Probability of making a profit on Wednesday:--\", profit_on_wednesday_probability)\n"
      ],
      "metadata": {
        "colab": {
          "base_uri": "https://localhost:8080/"
        },
        "id": "Y6Sm8ayfzIvi",
        "outputId": "06296932-7e74-4a24-fb96-399b5914999a"
      },
      "execution_count": 10,
      "outputs": [
        {
          "output_type": "stream",
          "name": "stdout",
          "text": [
            "Sample mean in April:- 1698.9526315789474\n",
            "Probability of making a loss over the stock:- 0.4979919678714859\n",
            "Probability of making a profit on Wednesday:-- 0.42\n"
          ]
        }
      ]
    },
    {
      "cell_type": "code",
      "source": [
        "conditional_profit_probability = len(wednesday_data[wednesday_data['Chg%'] > 0]) / len(wednesday_data)\n",
        "\n",
        "print(\"Conditional probability of making profit on Wednesday:-\", conditional_profit_probability)\n",
        "\n",
        "plt.scatter(data['Date'].dt.weekday, data['Chg%'])\n",
        "plt.xlabel(\"Day of the Week\")\n",
        "plt.ylabel(\"Chg%\")\n",
        "plt.title(\"Chg% Data vs. Day of the Week\")\n",
        "plt.xticks(np.arange(7), ['Mon', 'Tue', 'Wed', 'Thu', 'Fri', 'Sat', 'Sun'])\n",
        "plt.show()\n"
      ],
      "metadata": {
        "colab": {
          "base_uri": "https://localhost:8080/",
          "height": 489
        },
        "id": "8s_iDgSMzOY7",
        "outputId": "9bf9f414-1cf5-41a7-e926-220908e316b3"
      },
      "execution_count": 11,
      "outputs": [
        {
          "output_type": "stream",
          "name": "stdout",
          "text": [
            "Conditional probability of making profit on Wednesday:- 0.42\n"
          ]
        },
        {
          "output_type": "display_data",
          "data": {
            "text/plain": [
              "<Figure size 640x480 with 1 Axes>"
            ],
            "image/png": "[encoded data removed]"
          },
          "metadata": {}
        }
      ]
    }
  ]
}